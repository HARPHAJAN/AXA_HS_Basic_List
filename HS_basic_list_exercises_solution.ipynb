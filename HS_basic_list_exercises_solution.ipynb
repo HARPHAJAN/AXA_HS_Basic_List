{
 "cells": [
  {
   "cell_type": "markdown",
   "metadata": {},
   "source": [
    "## LIST MANIPULATION IN PYTHON"
   ]
  },
  {
   "cell_type": "markdown",
   "metadata": {},
   "source": [
    "## A. match_ends"
   ]
  },
  {
   "cell_type": "markdown",
   "metadata": {},
   "source": [
    "Given a list of strings, return the count of the number of strings where the string length is 2 or more and the first and last chars of the string are the same.\n",
    "\n",
    "Note: python does not have a ++ operator, but += works."
   ]
  },
  {
   "cell_type": "code",
   "execution_count": 2,
   "metadata": {
    "collapsed": false
   },
   "outputs": [
    {
     "name": "stdout",
     "output_type": "stream",
     "text": [
      "2\n"
     ]
    }
   ],
   "source": [
    "def match_words(words):\n",
    "  ctr = 0\n",
    "\n",
    "  for word in words:\n",
    "    if len(word) > 1 and word[0] == word[-1]:\n",
    "      ctr += 1\n",
    "  return ctr\n",
    "\n",
    "print(match_words(['har', 'harph', '8001', '1881']))\n",
    "  "
   ]
  },
  {
   "cell_type": "markdown",
   "metadata": {},
   "source": [
    "## B. front_x"
   ]
  },
  {
   "cell_type": "markdown",
   "metadata": {},
   "source": [
    "Given a list of strings, return a list with the strings in sorted order, except group all the strings that begin with 'x' first.\n",
    "\n",
    "e.g. ['mix', 'xyz', 'apple', 'xanadu', 'aardvark'] yields\n",
    "['xanadu', 'xyz', 'aardvark', 'apple', 'mix']\n",
    "\n",
    "Hint: this can be done by making 2 lists and sorting each of them before combining them."
   ]
  },
  {
   "cell_type": "code",
   "execution_count": 5,
   "metadata": {
    "collapsed": false
   },
   "outputs": [
    {
     "name": "stdout",
     "output_type": "stream",
     "text": [
      "['xBaani', '8001', 'har', 'harph']\n"
     ]
    }
   ],
   "source": [
    "def front_x(words):\n",
    "  xlist = []\n",
    "  blist = []\n",
    "\n",
    "  for word in words:\n",
    "    if word.startswith('x'):\n",
    "      xlist.append(word)\n",
    "    else:\n",
    "      blist.append(word)\n",
    "\n",
    "  return sorted(xlist) + sorted(blist)\n",
    "\n",
    "print(front_x(['har', 'harph', '8001', 'xBaani']))"
   ]
  },
  {
   "cell_type": "markdown",
   "metadata": {},
   "source": [
    "## C. sort_last"
   ]
  },
  {
   "cell_type": "markdown",
   "metadata": {},
   "source": [
    "Given a list of non-empty tuples, return a list sorted in increasing order by the last element in each tuple.\n",
    "\n",
    "e.g. [(1, 7), (1, 3), (3, 4, 5), (2, 2)] yields\n",
    "[(2, 2), (1, 3), (3, 4, 5), (1, 7)]\n",
    "\n",
    "Hint: use a custom key= function to extract the last element form each tuple."
   ]
  },
  {
   "cell_type": "code",
   "execution_count": 11,
   "metadata": {
    "collapsed": false
   },
   "outputs": [
    {
     "name": "stdout",
     "output_type": "stream",
     "text": [
      "[(1, 2), (2, 3), (8, 4), (3, 5), (2, 10)]\n"
     ]
    }
   ],
   "source": [
    "def sort_last(tuples):\n",
    "  return sorted(tuples, key=last)\n",
    "\n",
    "print(sort_last([(3, 5), (1, 2), (8, 4), (2, 3), (2, 10)]))"
   ]
  },
  {
   "cell_type": "markdown",
   "metadata": {},
   "source": [
    "Simple provided test() function used in main() to print what each function returns vs. what it's supposed to return."
   ]
  },
  {
   "cell_type": "code",
   "execution_count": 21,
   "metadata": {
    "collapsed": false
   },
   "outputs": [
    {
     "ename": "SyntaxError",
     "evalue": "invalid syntax (<ipython-input-21-4fe6718e7943>, line 6)",
     "output_type": "error",
     "traceback": [
      "\u001b[1;36m  File \u001b[1;32m\"<ipython-input-21-4fe6718e7943>\"\u001b[1;36m, line \u001b[1;32m6\u001b[0m\n\u001b[1;33m    print '1 got: 1 expected: 1' % (prefix, repr(got), repr(expected))\u001b[0m\n\u001b[1;37m                               ^\u001b[0m\n\u001b[1;31mSyntaxError\u001b[0m\u001b[1;31m:\u001b[0m invalid syntax\n"
     ]
    }
   ],
   "source": [
    "def test(got, expected):\n",
    "  if got == expected:\n",
    "    prefix = ' OK '\n",
    "  else:\n",
    "    prefix = '  X '\n",
    "    print '%s got: %s expected: %s' % (prefix, repr(got), repr(expected))"
   ]
  },
  {
   "cell_type": "markdown",
   "metadata": {},
   "source": [
    "Calls the above functions with interesting inputs."
   ]
  },
  {
   "cell_type": "code",
   "execution_count": 25,
   "metadata": {
    "collapsed": false
   },
   "outputs": [
    {
     "ename": "SyntaxError",
     "evalue": "Missing parentheses in call to 'print' (<ipython-input-25-ee95b07e105c>, line 2)",
     "output_type": "error",
     "traceback": [
      "\u001b[1;36m  File \u001b[1;32m\"<ipython-input-25-ee95b07e105c>\"\u001b[1;36m, line \u001b[1;32m2\u001b[0m\n\u001b[1;33m    print 'match_ends'\u001b[0m\n\u001b[1;37m                     ^\u001b[0m\n\u001b[1;31mSyntaxError\u001b[0m\u001b[1;31m:\u001b[0m Missing parentheses in call to 'print'\n"
     ]
    }
   ],
   "source": [
    "def main():\n",
    "    print 'match_ends'\n",
    "    test(match_ends(['aba', 'xyz', 'aa', 'x', 'bbb']), 3)\n",
    "    test(match_ends(['', 'x', 'xy', 'xyx', 'xx']), 2)\n",
    "    test(match_ends(['aaa', 'be', 'abc', 'hello']), 1)"
   ]
  },
  {
   "cell_type": "markdown",
   "metadata": {},
   "source": [
    "We call the main function."
   ]
  },
  {
   "cell_type": "markdown",
   "metadata": {},
   "source": [
    "## D. remove_adjacent"
   ]
  },
  {
   "cell_type": "markdown",
   "metadata": {},
   "source": [
    "Given a list of numbers, return a list where all adjacent == elements have been reduced to a single element, so [1, 2, 2, 3] returns [1, 2, 3]. You may create a new list or modify the passed in list."
   ]
  },
  {
   "cell_type": "code",
   "execution_count": 40,
   "metadata": {
    "collapsed": false
   },
   "outputs": [],
   "source": [
    "def remove_adjacent(nums):\n",
    "  i = 1\n",
    "  while i < len(nums):    \n",
    "    if nums[i] == nums[i-1]:\n",
    "      nums.pop(i)\n",
    "      i -= 1  \n",
    "    i += 1\n",
    "  return nums\n",
    "  print(remove_adjacent(['1','2','2','3']))"
   ]
  },
  {
   "cell_type": "markdown",
   "metadata": {},
   "source": [
    "## E. linear_merge"
   ]
  },
  {
   "cell_type": "markdown",
   "metadata": {},
   "source": [
    "Given two lists sorted in increasing order, create and return a merged list of all the elements in sorted order. You may modify the passed in lists. Ideally, the solution should work in \"linear\" time, making a single pass of both lists."
   ]
  },
  {
   "cell_type": "code",
   "execution_count": 34,
   "metadata": {
    "collapsed": false
   },
   "outputs": [],
   "source": [
    "def linear_merge(list1, list2):\n",
    "  merged_list = []\n",
    "  i = 0\n",
    "  j = 0\n",
    "\n",
    "  while True:\n",
    "    if i == len(list1):\n",
    "        return merged_list + list2[j:]\n",
    "    if j == len(list2):\n",
    "        return merged_list + list1[i:]\n",
    "\n",
    "    if list1[i] <= list2[j]:\n",
    "        merged_list.append(list1[i])\n",
    "        i += 1\n",
    "    else:\n",
    "        merged_list.append(list2[j])\n",
    "        j += 1\n",
    "        \n",
    "  print(linear_merge('1', '5'))"
   ]
  },
  {
   "cell_type": "markdown",
   "metadata": {},
   "source": [
    "Calls the above functions with interesting inputs."
   ]
  },
  {
   "cell_type": "code",
   "execution_count": 35,
   "metadata": {
    "collapsed": false
   },
   "outputs": [
    {
     "ename": "SyntaxError",
     "evalue": "Missing parentheses in call to 'print' (<ipython-input-35-fc2724a9e3ee>, line 2)",
     "output_type": "error",
     "traceback": [
      "\u001b[1;36m  File \u001b[1;32m\"<ipython-input-35-fc2724a9e3ee>\"\u001b[1;36m, line \u001b[1;32m2\u001b[0m\n\u001b[1;33m    print 'remove_adjacent'\u001b[0m\n\u001b[1;37m                          ^\u001b[0m\n\u001b[1;31mSyntaxError\u001b[0m\u001b[1;31m:\u001b[0m Missing parentheses in call to 'print'\n"
     ]
    }
   ],
   "source": [
    "def main():\n",
    "    print 'remove_adjacent'\n",
    "    test(remove_adjacent([1, 2, 2, 3]), [1, 2, 3])\n",
    "    test(remove_adjacent([2, 2, 3, 3, 3]), [2, 3])\n",
    "    test(remove_adjacent([]), [])\n",
    "\n",
    "    print\n",
    "    print 'linear_merge'\n",
    "    test(linear_merge(['aa', 'xx', 'zz'], ['bb', 'cc']),\n",
    "        ['aa', 'bb', 'cc', 'xx', 'zz'])\n",
    "    test(linear_merge(['aa', 'xx'], ['bb', 'cc', 'zz']),\n",
    "        ['aa', 'bb', 'cc', 'xx', 'zz'])\n",
    "    test(linear_merge(['aa', 'aa'], ['aa', 'bb', 'bb']),\n",
    "        ['aa', 'aa', 'aa', 'bb', 'bb'])"
   ]
  },
  {
   "cell_type": "markdown",
   "metadata": {
    "collapsed": true
   },
   "source": [
    "We call the main function."
   ]
  },
  {
   "cell_type": "code",
   "execution_count": null,
   "metadata": {
    "collapsed": true
   },
   "outputs": [],
   "source": [
    "main()"
   ]
  }
 ],
 "metadata": {
  "anaconda-cloud": {},
  "kernelspec": {
   "display_name": "Python [Root]",
   "language": "python",
   "name": "Python [Root]"
  },
  "language_info": {
   "codemirror_mode": {
    "name": "ipython",
    "version": 3
   },
   "file_extension": ".py",
   "mimetype": "text/x-python",
   "name": "python",
   "nbconvert_exporter": "python",
   "pygments_lexer": "ipython3",
   "version": "3.5.2"
  }
 },
 "nbformat": 4,
 "nbformat_minor": 0
}
